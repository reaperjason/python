{
 "cells": [
  {
   "cell_type": "code",
   "execution_count": 2,
   "metadata": {},
   "outputs": [],
   "source": [
    "#name error ASSS\n",
    "\n",
    "#Syntax error adasda asda\n",
    "\n",
    "#0/0 ZeroDivisionError\n",
    "\n",
    "#a = {'b':'b'}\n",
    "#a[c]  key error"
   ]
  },
  {
   "cell_type": "code",
   "execution_count": 9,
   "metadata": {},
   "outputs": [
    {
     "name": "stdout",
     "output_type": "stream",
     "text": [
      "name 'c' is not defined\n"
     ]
    }
   ],
   "source": [
    "try:\n",
    "    #0/0\n",
    "    a = {\"b\":\"b\"}\n",
    "    a[c]\n",
    "except Exception as error:\n",
    "    print(error)\n",
    "except NameError as nameError:\n",
    "    printt(\"Name error, variable no declarada\")\n",
    "except (ZeroDivisionError, KeyError) as errorComun:\n",
    "    print(\"error comun en python\")"
   ]
  },
  {
   "cell_type": "code",
   "execution_count": null,
   "metadata": {},
   "outputs": [],
   "source": []
  }
 ],
 "metadata": {
  "kernelspec": {
   "display_name": "Python 3",
   "language": "python",
   "name": "python3"
  },
  "language_info": {
   "codemirror_mode": {
    "name": "ipython",
    "version": 3
   },
   "file_extension": ".py",
   "mimetype": "text/x-python",
   "name": "python",
   "nbconvert_exporter": "python",
   "pygments_lexer": "ipython3",
   "version": "3.7.4"
  }
 },
 "nbformat": 4,
 "nbformat_minor": 2
}
