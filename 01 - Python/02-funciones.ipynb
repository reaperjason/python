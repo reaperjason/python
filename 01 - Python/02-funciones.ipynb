{
 "cells": [
  {
   "cell_type": "code",
   "execution_count": 3,
   "metadata": {},
   "outputs": [
    {
     "name": "stdout",
     "output_type": "stream",
     "text": [
      "Hola mundo\n"
     ]
    },
    {
     "data": {
      "text/plain": [
       "NoneType"
      ]
     },
     "execution_count": 3,
     "metadata": {},
     "output_type": "execute_result"
    }
   ],
   "source": [
    "#funciones\n",
    "def hola_Mundo(): #None -> void\n",
    "    print(\"Hola mundo\")\n",
    "type(hola_Mundo())"
   ]
  },
  {
   "cell_type": "code",
   "execution_count": 5,
   "metadata": {},
   "outputs": [
    {
     "name": "stdout",
     "output_type": "stream",
     "text": [
      "5\n",
      "la suma de 2 y 3 es: 5\n"
     ]
    }
   ],
   "source": [
    "def sumar_dos_numeros(num_uno, num_unom_dos): # parametros requeridos\n",
    "    return num_uno+num_unom_dos\n",
    "print(sumar_dos_numeros(2,3))\n",
    "total_suma = sumar_dos_numeros(2,3)\n",
    "print(f\"la suma de 2 y 3 es: {total_suma}\")"
   ]
  },
  {
   "cell_type": "code",
   "execution_count": 14,
   "metadata": {},
   "outputs": [
    {
     "name": "stdout",
     "output_type": "stream",
     "text": [
      "Universidad: De la vida\n"
     ]
    }
   ],
   "source": [
    "def imprimir_universidad(nombre = \"EPN\"):\n",
    "    print(f\"Universidad: {nombre}\")\n",
    "imprimir_universidad(\"De la vida\")"
   ]
  },
  {
   "cell_type": "code",
   "execution_count": 21,
   "metadata": {},
   "outputs": [
    {
     "name": "stdout",
     "output_type": "stream",
     "text": [
      "Color: blanco\n",
      "Placa: CPT-C00K\n",
      "horse power: 3000\n",
      "Año: 1997\n"
     ]
    }
   ],
   "source": [
    "#Regla: los parametros requeridos(sin valores por defecto) deben\n",
    "#ir primero y luego los parametros opcionales(con valor por defecto)\n",
    "def imprimir_carro(color, placa, hp, anio=1997):\n",
    "    print(f\"Color: {color}\")\n",
    "    print(f\"Placa: {placa}\")\n",
    "    print(f\"horse power: {hp}\")\n",
    "    print(f\"Año: {anio}\")\n",
    "imprimir_carro(\"blanco\",\"CPT-C00K\",3000)"
   ]
  },
  {
   "cell_type": "code",
   "execution_count": 22,
   "metadata": {},
   "outputs": [
    {
     "name": "stdout",
     "output_type": "stream",
     "text": [
      "Color: negro\n",
      "Placa: ZMB-0101\n",
      "horse power: 8000\n",
      "Año: 2222\n"
     ]
    }
   ],
   "source": [
    "#Named parameters, paramteros nombrados\n",
    "#Regla: podemos usar parametros por posicion y \n",
    "#luego los parametros nombrados, los parametros nombrados pueden ir\n",
    "#en cualquier orden, además una vez que usamamos parametros\n",
    "#nombrados debemos usarlos hasta el final.\n",
    "imprimir_carro(\"negro\", \"ZMB-0101\",anio=2222,hp= 8000)"
   ]
  },
  {
   "cell_type": "code",
   "execution_count": 28,
   "metadata": {},
   "outputs": [
    {
     "data": {
      "text/plain": [
       "20"
      ]
     },
     "execution_count": 28,
     "metadata": {},
     "output_type": "execute_result"
    }
   ],
   "source": [
    "#* para parametros infinitos\n",
    "def sumar_numeros(primer_numero, *numeros):\n",
    "    suma = primer_numero\n",
    "    for numero in numeros:\n",
    "        suma = suma + numero\n",
    "    return suma\n",
    "sumar_numeros(1,2,3,6,8)"
   ]
  },
  {
   "cell_type": "code",
   "execution_count": 32,
   "metadata": {},
   "outputs": [
    {
     "name": "stdout",
     "output_type": "stream",
     "text": [
      "{'saludo': 'hola', 'mensaje': 'mundo'}\n",
      "<class 'dict'>\n"
     ]
    }
   ],
   "source": [
    "#key word arguments\n",
    "#Parametros nombrados\n",
    "#**kwargs\n",
    "#crea un diccionario donde el nombre de la variable es la key\n",
    "#y el valor de  la variable es el value\n",
    "def establecer_configuracion(**configuracion): \n",
    "    print(configuracion)\n",
    "    print(type(configuracion))\n",
    "establecer_configuracion(saludo=\"hola\",mensaje=\"mundo\")"
   ]
  },
  {
   "cell_type": "code",
   "execution_count": 38,
   "metadata": {},
   "outputs": [],
   "source": [
    "#Reglas\n",
    "def ejemplo(requerido_uno, requerido_dos,\n",
    "           opcional_uno = 1, opcional_dos = 2,\n",
    "           **infinitos, **kwargs):\n",
    "    print(\":)\")"
   ]
  },
  {
   "cell_type": "code",
   "execution_count": null,
   "metadata": {},
   "outputs": [],
   "source": []
  }
 ],
 "metadata": {
  "kernelspec": {
   "display_name": "Python 3",
   "language": "python",
   "name": "python3"
  },
  "language_info": {
   "codemirror_mode": {
    "name": "ipython",
    "version": 3
   },
   "file_extension": ".py",
   "mimetype": "text/x-python",
   "name": "python",
   "nbconvert_exporter": "python",
   "pygments_lexer": "ipython3",
   "version": "3.7.4"
  }
 },
 "nbformat": 4,
 "nbformat_minor": 2
}
